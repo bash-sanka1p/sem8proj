{
 "cells": [
  {
   "cell_type": "code",
   "execution_count": 24,
   "metadata": {},
   "outputs": [],
   "source": [
    "import cv2\n",
    "import numpy as np\n",
    "from PIL import Image\n",
    "from matplotlib import pyplot as plt\n"
   ]
  },
  {
   "cell_type": "code",
   "execution_count": null,
   "metadata": {},
   "outputs": [],
   "source": [
    "img=cv2.imread(\"group_photos/1.jpg\") #\n",
    "img=cv2.cvtColor(img,cv2.COLOR_BGR2RGB)\n",
    "h, w, c = img.shape\n",
    "Image.fromarray(img)"
   ]
  },
  {
   "cell_type": "code",
   "execution_count": null,
   "metadata": {},
   "outputs": [],
   "source": [
    "M=np.float32([[1,0,500],[0,1,500]])\n",
    "img_tr=cv2.warpAffine(img,M,(w, h))\n",
    "Image.fromarray(img_tr)"
   ]
  },
  {
   "cell_type": "code",
   "execution_count": null,
   "metadata": {},
   "outputs": [],
   "source": [
    "img_blr=cv2.blur(img,(7,7))\n",
    "Image.fromarray(img_blr)"
   ]
  },
  {
   "cell_type": "code",
   "execution_count": null,
   "metadata": {},
   "outputs": [],
   "source": [
    "# img_gblr=cv2.GaussianBlur(img,(7,7),2)\n",
    "img_mblr = cv2.medianBlur(img,5)\n",
    "plt.figure(figsize=(20,20))\n",
    "plt.subplot(1,2,1)\n",
    "plt.imshow(img)\n",
    "plt.subplot(1,2,2)\n",
    "plt.imshow(img_mblr)\n",
    "plt.show()\n"
   ]
  },
  {
   "cell_type": "code",
   "execution_count": null,
   "metadata": {},
   "outputs": [],
   "source": [
    "ret, thres = cv2.threshold()"
   ]
  },
  {
   "cell_type": "code",
   "execution_count": 18,
   "metadata": {},
   "outputs": [],
   "source": [
    "\n",
    "f = lambda x : ((x/255)**2)*255\n",
    "b , g , r = cv2.split(image)\n",
    "new_image = cv2.merge((np.array.(f(b)) , np.array(f(g)) , np.array(f(r))))"
   ]
  },
  {
   "cell_type": "code",
   "execution_count": null,
   "metadata": {},
   "outputs": [],
   "source": []
  },
  {
   "cell_type": "code",
   "execution_count": null,
   "metadata": {},
   "outputs": [],
   "source": []
  },
  {
   "cell_type": "code",
   "execution_count": null,
   "metadata": {},
   "outputs": [],
   "source": []
  },
  {
   "cell_type": "code",
   "execution_count": null,
   "metadata": {},
   "outputs": [],
   "source": [
    "# Load input images\n",
    "image1 = cv2.imread('group_photos\\1.jpg', cv2.IMREAD_GRAYSCALE)\n",
    "image2 = cv2.imread('group_photos\\2.jpg', cv2.IMREAD_GRAYSCALE)\n",
    "\n",
    "# Create ORB object\n",
    "orb = cv2.ORB_create()\n",
    "\n",
    "# Detect keypoints and compute descriptors for both images\n",
    "keypoints1, descriptors1 = orb.detectAndCompute(image1, None)\n",
    "keypoints2, descriptors2 = orb.detectAndCompute(image2, None)\n",
    "\n",
    "# Create a BFMatcher object\n",
    "bf = cv2.BFMatcher(cv2.NORM_HAMMING, crossCheck=True)\n",
    "\n",
    "# Match descriptors of the two images\n",
    "matches = bf.match(descriptors1, descriptors2)\n",
    "\n",
    "# Sort matches based on their distances\n",
    "matches = sorted(matches, key=lambda x: x.distance)\n",
    "\n",
    "# Draw top 'n' matches\n",
    "n = 10\n",
    "matched_image = cv2.drawMatches(image1, keypoints1, image2, keypoints2, matches[:n], None, flags=cv2.DrawMatchesFlags_NOT_DRAW_SINGLE_POINTS)\n",
    "\n",
    "# Display matched image\n",
    "cv2.imshow('Matches', matched_image)\n",
    "cv2.waitKey(0)\n",
    "cv2.destroyAllWindows()"
   ]
  },
  {
   "cell_type": "code",
   "execution_count": null,
   "metadata": {},
   "outputs": [],
   "source": [
    "import cv2\n",
    "net = cv2.dnn.readNet(\"path/to/pretrained/model.weights\", \"path/to/config/file.cfg\")\n",
    "image = cv2.imread(\"path/to/image.jpg\")\n",
    "blob = cv2.dnn.blobFromImage(image, 1.0, (300, 300), (104.0, 177.0, 123.0)) \n",
    "net.setInput(blob)\n",
    "detections = net.forward()\n",
    "for i in range(detections.shape[2]): \n",
    "    confidence = detections[0, 0, i, 2] \n",
    "    if confidence > 0.5: \n",
    "        box = detections[0, 0, i, 3:7] * np.array([image.shape[1], image.shape[0],image.shape[1], image.shape[0]])\n",
    "        (startX, startY, endX, endY) = box.astype(\"int\") \n",
    "        cv2.rectangle(image, (startX, startY), (endX, endY), (0, 255, 0), 2)\n",
    "        tracker = cv2.TrackerKCF_create()\n",
    "        tracker.init(image, (startX, startY, endX - startX, endY - startY))\n",
    "cv2.imshow(\"Output\", image)\n",
    "cv2.waitKey(0) \n",
    "cv2.destroyAllWindows()"
   ]
  },
  {
   "cell_type": "code",
   "execution_count": null,
   "metadata": {},
   "outputs": [],
   "source": []
  }
 ],
 "metadata": {
  "kernelspec": {
   "display_name": "ml310",
   "language": "python",
   "name": "python3"
  },
  "language_info": {
   "codemirror_mode": {
    "name": "ipython",
    "version": 3
   },
   "file_extension": ".py",
   "mimetype": "text/x-python",
   "name": "python",
   "nbconvert_exporter": "python",
   "pygments_lexer": "ipython3",
   "version": "3.10.14"
  }
 },
 "nbformat": 4,
 "nbformat_minor": 2
}
